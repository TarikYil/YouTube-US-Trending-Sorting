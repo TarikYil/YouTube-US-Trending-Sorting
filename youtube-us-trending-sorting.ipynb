{
 "cells": [
  {
   "cell_type": "markdown",
   "id": "9ca2e853",
   "metadata": {
    "papermill": {
     "duration": 0.008765,
     "end_time": "2023-03-20T12:24:33.483474",
     "exception": false,
     "start_time": "2023-03-20T12:24:33.474709",
     "status": "completed"
    },
    "tags": []
   },
   "source": [
    "#  👏🙌👍 As seen recently, users are most influenced by **social proof** in their purchasing process. What does this mean? In other words, the product has a high evaluation effect on the comments and likes of other users."
   ]
  },
  {
   "cell_type": "markdown",
   "id": "99057527",
   "metadata": {
    "papermill": {
     "duration": 0.007141,
     "end_time": "2023-03-20T12:24:33.498164",
     "exception": false,
     "start_time": "2023-03-20T12:24:33.491023",
     "status": "completed"
    },
    "tags": []
   },
   "source": [
    "# 🗄️Purpose of purchases is to reach the best product in terms of quality and performance. In this process, the influence of the social majority has become an important factor. There are some measurement methods to further strengthen the **social proff** effect. These methods:\n",
    "\n",
    "* **Calculation of product scores**\n",
    "* **Sorting the product**\n",
    "* **User review ranking of the product**\n",
    "* **Page, process and interaction area design**\n",
    "* **Feature trials**\n",
    "* **Testing of possible actions and reactions**"
   ]
  },
  {
   "cell_type": "markdown",
   "id": "77fd9ba4",
   "metadata": {
    "papermill": {
     "duration": 0.007109,
     "end_time": "2023-03-20T12:24:33.512585",
     "exception": false,
     "start_time": "2023-03-20T12:24:33.505476",
     "status": "completed"
    },
    "tags": []
   },
   "source": [
    "***💯USA Youtube trend data is used in our study area. The expected output is to perform an optimal sorting for users using the \"view_count\", \"likes\", \"dislikes\" and \"comment_count\" variables.***"
   ]
  },
  {
   "cell_type": "markdown",
   "id": "24b8c6d9",
   "metadata": {
    "papermill": {
     "duration": 0.006985,
     "end_time": "2023-03-20T12:24:33.526969",
     "exception": false,
     "start_time": "2023-03-20T12:24:33.519984",
     "status": "completed"
    },
    "tags": []
   },
   "source": [
    "***💯In this study, the Sorting Review approach, which will be used as the sorting method, will be used. Sorting When using the comment method, sorting is not done according to likes and time priority. In order to increase the social proof effect, users' most helpful comments (number of comments) are included.***"
   ]
  },
  {
   "cell_type": "markdown",
   "id": "31321701",
   "metadata": {
    "papermill": {
     "duration": 0.007117,
     "end_time": "2023-03-20T12:24:33.541407",
     "exception": false,
     "start_time": "2023-03-20T12:24:33.534290",
     "status": "completed"
    },
    "tags": []
   },
   "source": [
    "# **1.Import Libraries**"
   ]
  },
  {
   "cell_type": "code",
   "execution_count": 1,
   "id": "2076c5fa",
   "metadata": {
    "_cell_guid": "b1076dfc-b9ad-4769-8c92-a6c4dae69d19",
    "_uuid": "8f2839f25d086af736a60e9eeb907d3b93b6e0e5",
    "execution": {
     "iopub.execute_input": "2023-03-20T12:24:33.558865Z",
     "iopub.status.busy": "2023-03-20T12:24:33.558271Z",
     "iopub.status.idle": "2023-03-20T12:24:34.577710Z",
     "shell.execute_reply": "2023-03-20T12:24:34.576006Z"
    },
    "papermill": {
     "duration": 1.032024,
     "end_time": "2023-03-20T12:24:34.580865",
     "exception": false,
     "start_time": "2023-03-20T12:24:33.548841",
     "status": "completed"
    },
    "tags": []
   },
   "outputs": [
    {
     "name": "stdout",
     "output_type": "stream",
     "text": [
      "/kaggle/input/youtube-trending-video-dataset/MX_youtube_trending_data.csv\n",
      "/kaggle/input/youtube-trending-video-dataset/GB_youtube_trending_data.csv\n",
      "/kaggle/input/youtube-trending-video-dataset/BR_category_id.json\n",
      "/kaggle/input/youtube-trending-video-dataset/FR_youtube_trending_data.csv\n",
      "/kaggle/input/youtube-trending-video-dataset/IN_youtube_trending_data.csv\n",
      "/kaggle/input/youtube-trending-video-dataset/MX_category_id.json\n",
      "/kaggle/input/youtube-trending-video-dataset/GB_category_id.json\n",
      "/kaggle/input/youtube-trending-video-dataset/US_category_id.json\n",
      "/kaggle/input/youtube-trending-video-dataset/BR_youtube_trending_data.csv\n",
      "/kaggle/input/youtube-trending-video-dataset/RU_youtube_trending_data.csv\n",
      "/kaggle/input/youtube-trending-video-dataset/IN_category_id.json\n",
      "/kaggle/input/youtube-trending-video-dataset/KR_category_id.json\n",
      "/kaggle/input/youtube-trending-video-dataset/DE_youtube_trending_data.csv\n",
      "/kaggle/input/youtube-trending-video-dataset/RU_category_id.json\n",
      "/kaggle/input/youtube-trending-video-dataset/US_youtube_trending_data.csv\n",
      "/kaggle/input/youtube-trending-video-dataset/JP_youtube_trending_data.csv\n",
      "/kaggle/input/youtube-trending-video-dataset/CA_category_id.json\n",
      "/kaggle/input/youtube-trending-video-dataset/DE_category_id.json\n",
      "/kaggle/input/youtube-trending-video-dataset/KR_youtube_trending_data.csv\n",
      "/kaggle/input/youtube-trending-video-dataset/JP_category_id.json\n",
      "/kaggle/input/youtube-trending-video-dataset/CA_youtube_trending_data.csv\n",
      "/kaggle/input/youtube-trending-video-dataset/FR_category_id.json\n"
     ]
    }
   ],
   "source": [
    "import numpy as np # linear algebra\n",
    "import pandas as pd # data processing, CSV file I/O (e.g. pd.read_csv)\n",
    "import scipy.stats as st\n",
    "import math\n",
    "from sklearn.preprocessing import MinMaxScaler\n",
    "import os\n",
    "for dirname, _, filenames in os.walk('/kaggle/input'):\n",
    "    for filename in filenames:\n",
    "        print(os.path.join(dirname, filename))"
   ]
  },
  {
   "cell_type": "code",
   "execution_count": 2,
   "id": "d60e8967",
   "metadata": {
    "execution": {
     "iopub.execute_input": "2023-03-20T12:24:34.598915Z",
     "iopub.status.busy": "2023-03-20T12:24:34.598458Z",
     "iopub.status.idle": "2023-03-20T12:24:34.604372Z",
     "shell.execute_reply": "2023-03-20T12:24:34.603077Z"
    },
    "papermill": {
     "duration": 0.017802,
     "end_time": "2023-03-20T12:24:34.606724",
     "exception": false,
     "start_time": "2023-03-20T12:24:34.588922",
     "status": "completed"
    },
    "tags": []
   },
   "outputs": [],
   "source": [
    "pd.set_option(\"display.max_columns\", None)\n",
    "pd.set_option(\"display.width\",500)"
   ]
  },
  {
   "cell_type": "markdown",
   "id": "b301d7e4",
   "metadata": {
    "papermill": {
     "duration": 0.009001,
     "end_time": "2023-03-20T12:24:34.623526",
     "exception": false,
     "start_time": "2023-03-20T12:24:34.614525",
     "status": "completed"
    },
    "tags": []
   },
   "source": [
    "# **2.Getting to know the dataset**"
   ]
  },
  {
   "cell_type": "code",
   "execution_count": 3,
   "id": "60936ce8",
   "metadata": {
    "execution": {
     "iopub.execute_input": "2023-03-20T12:24:34.641192Z",
     "iopub.status.busy": "2023-03-20T12:24:34.640736Z",
     "iopub.status.idle": "2023-03-20T12:24:41.328565Z",
     "shell.execute_reply": "2023-03-20T12:24:41.325986Z"
    },
    "papermill": {
     "duration": 6.699687,
     "end_time": "2023-03-20T12:24:41.331013",
     "exception": false,
     "start_time": "2023-03-20T12:24:34.631326",
     "status": "completed"
    },
    "tags": []
   },
   "outputs": [
    {
     "data": {
      "text/html": [
       "<div>\n",
       "<style scoped>\n",
       "    .dataframe tbody tr th:only-of-type {\n",
       "        vertical-align: middle;\n",
       "    }\n",
       "\n",
       "    .dataframe tbody tr th {\n",
       "        vertical-align: top;\n",
       "    }\n",
       "\n",
       "    .dataframe thead th {\n",
       "        text-align: right;\n",
       "    }\n",
       "</style>\n",
       "<table border=\"1\" class=\"dataframe\">\n",
       "  <thead>\n",
       "    <tr style=\"text-align: right;\">\n",
       "      <th></th>\n",
       "      <th>video_id</th>\n",
       "      <th>title</th>\n",
       "      <th>publishedAt</th>\n",
       "      <th>channelId</th>\n",
       "      <th>channelTitle</th>\n",
       "      <th>categoryId</th>\n",
       "      <th>trending_date</th>\n",
       "      <th>tags</th>\n",
       "      <th>view_count</th>\n",
       "      <th>likes</th>\n",
       "      <th>dislikes</th>\n",
       "      <th>comment_count</th>\n",
       "      <th>thumbnail_link</th>\n",
       "      <th>comments_disabled</th>\n",
       "      <th>ratings_disabled</th>\n",
       "      <th>description</th>\n",
       "    </tr>\n",
       "  </thead>\n",
       "  <tbody>\n",
       "    <tr>\n",
       "      <th>0</th>\n",
       "      <td>3C66w5Z0ixs</td>\n",
       "      <td>I ASKED HER TO BE MY GIRLFRIEND...</td>\n",
       "      <td>2020-08-11T19:20:14Z</td>\n",
       "      <td>UCvtRTOMP2TqYqu51xNrqAzg</td>\n",
       "      <td>Brawadis</td>\n",
       "      <td>22</td>\n",
       "      <td>2020-08-12T00:00:00Z</td>\n",
       "      <td>brawadis|prank|basketball|skits|ghost|funny vi...</td>\n",
       "      <td>1514614</td>\n",
       "      <td>156908</td>\n",
       "      <td>5855</td>\n",
       "      <td>35313</td>\n",
       "      <td>https://i.ytimg.com/vi/3C66w5Z0ixs/default.jpg</td>\n",
       "      <td>False</td>\n",
       "      <td>False</td>\n",
       "      <td>SUBSCRIBE to BRAWADIS ▶ http://bit.ly/Subscrib...</td>\n",
       "    </tr>\n",
       "    <tr>\n",
       "      <th>1</th>\n",
       "      <td>M9Pmf9AB4Mo</td>\n",
       "      <td>Apex Legends | Stories from the Outlands – “Th...</td>\n",
       "      <td>2020-08-11T17:00:10Z</td>\n",
       "      <td>UC0ZV6M2THA81QT9hrVWJG3A</td>\n",
       "      <td>Apex Legends</td>\n",
       "      <td>20</td>\n",
       "      <td>2020-08-12T00:00:00Z</td>\n",
       "      <td>Apex Legends|Apex Legends characters|new Apex ...</td>\n",
       "      <td>2381688</td>\n",
       "      <td>146739</td>\n",
       "      <td>2794</td>\n",
       "      <td>16549</td>\n",
       "      <td>https://i.ytimg.com/vi/M9Pmf9AB4Mo/default.jpg</td>\n",
       "      <td>False</td>\n",
       "      <td>False</td>\n",
       "      <td>While running her own modding shop, Ramya Pare...</td>\n",
       "    </tr>\n",
       "    <tr>\n",
       "      <th>2</th>\n",
       "      <td>J78aPJ3VyNs</td>\n",
       "      <td>I left youtube for a month and THIS is what ha...</td>\n",
       "      <td>2020-08-11T16:34:06Z</td>\n",
       "      <td>UCYzPXprvl5Y-Sf0g4vX-m6g</td>\n",
       "      <td>jacksepticeye</td>\n",
       "      <td>24</td>\n",
       "      <td>2020-08-12T00:00:00Z</td>\n",
       "      <td>jacksepticeye|funny|funny meme|memes|jacksepti...</td>\n",
       "      <td>2038853</td>\n",
       "      <td>353787</td>\n",
       "      <td>2628</td>\n",
       "      <td>40221</td>\n",
       "      <td>https://i.ytimg.com/vi/J78aPJ3VyNs/default.jpg</td>\n",
       "      <td>False</td>\n",
       "      <td>False</td>\n",
       "      <td>I left youtube for a month and this is what ha...</td>\n",
       "    </tr>\n",
       "    <tr>\n",
       "      <th>3</th>\n",
       "      <td>kXLn3HkpjaA</td>\n",
       "      <td>XXL 2020 Freshman Class Revealed - Official An...</td>\n",
       "      <td>2020-08-11T16:38:55Z</td>\n",
       "      <td>UCbg_UMjlHJg_19SZckaKajg</td>\n",
       "      <td>XXL</td>\n",
       "      <td>10</td>\n",
       "      <td>2020-08-12T00:00:00Z</td>\n",
       "      <td>xxl freshman|xxl freshmen|2020 xxl freshman|20...</td>\n",
       "      <td>496771</td>\n",
       "      <td>23251</td>\n",
       "      <td>1856</td>\n",
       "      <td>7647</td>\n",
       "      <td>https://i.ytimg.com/vi/kXLn3HkpjaA/default.jpg</td>\n",
       "      <td>False</td>\n",
       "      <td>False</td>\n",
       "      <td>Subscribe to XXL → http://bit.ly/subscribe-xxl...</td>\n",
       "    </tr>\n",
       "    <tr>\n",
       "      <th>4</th>\n",
       "      <td>VIUo6yapDbc</td>\n",
       "      <td>Ultimate DIY Home Movie Theater for The LaBran...</td>\n",
       "      <td>2020-08-11T15:10:05Z</td>\n",
       "      <td>UCDVPcEbVLQgLZX0Rt6jo34A</td>\n",
       "      <td>Mr. Kate</td>\n",
       "      <td>26</td>\n",
       "      <td>2020-08-12T00:00:00Z</td>\n",
       "      <td>The LaBrant Family|DIY|Interior Design|Makeove...</td>\n",
       "      <td>1123889</td>\n",
       "      <td>45802</td>\n",
       "      <td>964</td>\n",
       "      <td>2196</td>\n",
       "      <td>https://i.ytimg.com/vi/VIUo6yapDbc/default.jpg</td>\n",
       "      <td>False</td>\n",
       "      <td>False</td>\n",
       "      <td>Transforming The LaBrant Family's empty white ...</td>\n",
       "    </tr>\n",
       "  </tbody>\n",
       "</table>\n",
       "</div>"
      ],
      "text/plain": [
       "      video_id                                              title           publishedAt                 channelId   channelTitle  categoryId         trending_date                                               tags  view_count   likes  dislikes  comment_count                                  thumbnail_link  comments_disabled  ratings_disabled                                        description\n",
       "0  3C66w5Z0ixs                 I ASKED HER TO BE MY GIRLFRIEND...  2020-08-11T19:20:14Z  UCvtRTOMP2TqYqu51xNrqAzg       Brawadis          22  2020-08-12T00:00:00Z  brawadis|prank|basketball|skits|ghost|funny vi...     1514614  156908      5855          35313  https://i.ytimg.com/vi/3C66w5Z0ixs/default.jpg              False             False  SUBSCRIBE to BRAWADIS ▶ http://bit.ly/Subscrib...\n",
       "1  M9Pmf9AB4Mo  Apex Legends | Stories from the Outlands – “Th...  2020-08-11T17:00:10Z  UC0ZV6M2THA81QT9hrVWJG3A   Apex Legends          20  2020-08-12T00:00:00Z  Apex Legends|Apex Legends characters|new Apex ...     2381688  146739      2794          16549  https://i.ytimg.com/vi/M9Pmf9AB4Mo/default.jpg              False             False  While running her own modding shop, Ramya Pare...\n",
       "2  J78aPJ3VyNs  I left youtube for a month and THIS is what ha...  2020-08-11T16:34:06Z  UCYzPXprvl5Y-Sf0g4vX-m6g  jacksepticeye          24  2020-08-12T00:00:00Z  jacksepticeye|funny|funny meme|memes|jacksepti...     2038853  353787      2628          40221  https://i.ytimg.com/vi/J78aPJ3VyNs/default.jpg              False             False  I left youtube for a month and this is what ha...\n",
       "3  kXLn3HkpjaA  XXL 2020 Freshman Class Revealed - Official An...  2020-08-11T16:38:55Z  UCbg_UMjlHJg_19SZckaKajg            XXL          10  2020-08-12T00:00:00Z  xxl freshman|xxl freshmen|2020 xxl freshman|20...      496771   23251      1856           7647  https://i.ytimg.com/vi/kXLn3HkpjaA/default.jpg              False             False  Subscribe to XXL → http://bit.ly/subscribe-xxl...\n",
       "4  VIUo6yapDbc  Ultimate DIY Home Movie Theater for The LaBran...  2020-08-11T15:10:05Z  UCDVPcEbVLQgLZX0Rt6jo34A       Mr. Kate          26  2020-08-12T00:00:00Z  The LaBrant Family|DIY|Interior Design|Makeove...     1123889   45802       964           2196  https://i.ytimg.com/vi/VIUo6yapDbc/default.jpg              False             False  Transforming The LaBrant Family's empty white ..."
      ]
     },
     "execution_count": 3,
     "metadata": {},
     "output_type": "execute_result"
    }
   ],
   "source": [
    "df = pd.read_csv('/kaggle/input/youtube-trending-video-dataset/US_youtube_trending_data.csv')\n",
    "df.head()"
   ]
  },
  {
   "cell_type": "code",
   "execution_count": 4,
   "id": "55fa437e",
   "metadata": {
    "execution": {
     "iopub.execute_input": "2023-03-20T12:24:41.349317Z",
     "iopub.status.busy": "2023-03-20T12:24:41.348454Z",
     "iopub.status.idle": "2023-03-20T12:24:41.978298Z",
     "shell.execute_reply": "2023-03-20T12:24:41.976457Z"
    },
    "papermill": {
     "duration": 0.641683,
     "end_time": "2023-03-20T12:24:41.980875",
     "exception": false,
     "start_time": "2023-03-20T12:24:41.339192",
     "status": "completed"
    },
    "tags": []
   },
   "outputs": [
    {
     "name": "stdout",
     "output_type": "stream",
     "text": [
      "--------------------------------SHAPE---------------------------------\n",
      "(190790, 16)\n",
      "---------------------------------TYPE---------------------------------\n",
      "video_id             object\n",
      "title                object\n",
      "publishedAt          object\n",
      "channelId            object\n",
      "channelTitle         object\n",
      "categoryId            int64\n",
      "trending_date        object\n",
      "tags                 object\n",
      "view_count            int64\n",
      "likes                 int64\n",
      "dislikes              int64\n",
      "comment_count         int64\n",
      "thumbnail_link       object\n",
      "comments_disabled      bool\n",
      "ratings_disabled       bool\n",
      "description          object\n",
      "dtype: object\n",
      "---------------------------------INFO---------------------------------\n",
      "<class 'pandas.core.frame.DataFrame'>\n",
      "RangeIndex: 190790 entries, 0 to 190789\n",
      "Data columns (total 16 columns):\n",
      " #   Column             Non-Null Count   Dtype \n",
      "---  ------             --------------   ----- \n",
      " 0   video_id           190790 non-null  object\n",
      " 1   title              190790 non-null  object\n",
      " 2   publishedAt        190790 non-null  object\n",
      " 3   channelId          190790 non-null  object\n",
      " 4   channelTitle       190790 non-null  object\n",
      " 5   categoryId         190790 non-null  int64 \n",
      " 6   trending_date      190790 non-null  object\n",
      " 7   tags               190790 non-null  object\n",
      " 8   view_count         190790 non-null  int64 \n",
      " 9   likes              190790 non-null  int64 \n",
      " 10  dislikes           190790 non-null  int64 \n",
      " 11  comment_count      190790 non-null  int64 \n",
      " 12  thumbnail_link     190790 non-null  object\n",
      " 13  comments_disabled  190790 non-null  bool  \n",
      " 14  ratings_disabled   190790 non-null  bool  \n",
      " 15  description        186714 non-null  object\n",
      "dtypes: bool(2), int64(5), object(9)\n",
      "memory usage: 20.7+ MB\n",
      "None\n",
      "----------------------------------NA----------------------------------\n",
      "video_id                0\n",
      "title                   0\n",
      "publishedAt             0\n",
      "channelId               0\n",
      "channelTitle            0\n",
      "categoryId              0\n",
      "trending_date           0\n",
      "tags                    0\n",
      "view_count              0\n",
      "likes                   0\n",
      "dislikes                0\n",
      "comment_count           0\n",
      "thumbnail_link          0\n",
      "comments_disabled       0\n",
      "ratings_disabled        0\n",
      "description          4076\n",
      "dtype: int64\n",
      "-------------------------------DESCRIBE-------------------------------\n",
      "                  count          mean           std  min        25%       50%         75%          max\n",
      "categoryId     190790.0  1.882207e+01  6.750626e+00  1.0      17.00      20.0       24.00         29.0\n",
      "view_count     190790.0  2.495913e+06  7.038745e+06  0.0  479259.25  969704.0  2172214.75  277791741.0\n",
      "likes          190790.0  1.293201e+05  4.047585e+05  0.0   18695.00   43002.5   107048.50   16021534.0\n",
      "dislikes       190790.0  1.597982e+03  9.512737e+03  0.0       0.00      94.0      901.00     879354.0\n",
      "comment_count  190790.0  1.077826e+04  8.203262e+04  0.0    1337.00    2956.0     6983.00    6738537.0\n",
      "-------------------------------NUNIQUE--------------------------------\n",
      "video_id              34852\n",
      "title                 35774\n",
      "publishedAt           34391\n",
      "channelId              7098\n",
      "channelTitle           7261\n",
      "categoryId               15\n",
      "trending_date           933\n",
      "tags                  24886\n",
      "view_count           184068\n",
      "likes                114393\n",
      "dislikes              13179\n",
      "comment_count         31117\n",
      "thumbnail_link        34852\n",
      "comments_disabled         2\n",
      "ratings_disabled          2\n",
      "description           35665\n",
      "dtype: int64\n"
     ]
    }
   ],
   "source": [
    "def check_dt(dataframe):\n",
    "    print(\"SHAPE\".center(70, \"-\"))\n",
    "    print(dataframe.shape)\n",
    "    print(\"TYPE\".center(70, \"-\"))\n",
    "    print(dataframe.dtypes)\n",
    "    print(\"INFO\".center(70, \"-\"))\n",
    "    print(dataframe.info())\n",
    "    print(\"NA\".center(70, \"-\"))\n",
    "    print(dataframe.isnull().sum())\n",
    "    print(\"DESCRIBE\".center(70, \"-\"))\n",
    "    print(dataframe.describe().T)\n",
    "    print(\"NUNIQUE\".center(70, \"-\"))\n",
    "    print(dataframe.nunique())\n",
    "check_dt(df)"
   ]
  },
  {
   "cell_type": "code",
   "execution_count": 5,
   "id": "545e3e07",
   "metadata": {
    "execution": {
     "iopub.execute_input": "2023-03-20T12:24:42.000559Z",
     "iopub.status.busy": "2023-03-20T12:24:41.999322Z",
     "iopub.status.idle": "2023-03-20T12:24:42.009902Z",
     "shell.execute_reply": "2023-03-20T12:24:42.008959Z"
    },
    "papermill": {
     "duration": 0.022831,
     "end_time": "2023-03-20T12:24:42.012270",
     "exception": false,
     "start_time": "2023-03-20T12:24:41.989439",
     "status": "completed"
    },
    "tags": []
   },
   "outputs": [],
   "source": [
    "df = df[[\"title\", \"view_count\", \"likes\", \"dislikes\", \"comment_count\"]]"
   ]
  },
  {
   "cell_type": "code",
   "execution_count": 6,
   "id": "2445f014",
   "metadata": {
    "execution": {
     "iopub.execute_input": "2023-03-20T12:24:42.030871Z",
     "iopub.status.busy": "2023-03-20T12:24:42.030078Z",
     "iopub.status.idle": "2023-03-20T12:24:42.046512Z",
     "shell.execute_reply": "2023-03-20T12:24:42.045279Z"
    },
    "papermill": {
     "duration": 0.028655,
     "end_time": "2023-03-20T12:24:42.049160",
     "exception": false,
     "start_time": "2023-03-20T12:24:42.020505",
     "status": "completed"
    },
    "tags": []
   },
   "outputs": [
    {
     "data": {
      "text/html": [
       "<div>\n",
       "<style scoped>\n",
       "    .dataframe tbody tr th:only-of-type {\n",
       "        vertical-align: middle;\n",
       "    }\n",
       "\n",
       "    .dataframe tbody tr th {\n",
       "        vertical-align: top;\n",
       "    }\n",
       "\n",
       "    .dataframe thead th {\n",
       "        text-align: right;\n",
       "    }\n",
       "</style>\n",
       "<table border=\"1\" class=\"dataframe\">\n",
       "  <thead>\n",
       "    <tr style=\"text-align: right;\">\n",
       "      <th></th>\n",
       "      <th>title</th>\n",
       "      <th>view_count</th>\n",
       "      <th>likes</th>\n",
       "      <th>dislikes</th>\n",
       "      <th>comment_count</th>\n",
       "    </tr>\n",
       "  </thead>\n",
       "  <tbody>\n",
       "    <tr>\n",
       "      <th>0</th>\n",
       "      <td>I ASKED HER TO BE MY GIRLFRIEND...</td>\n",
       "      <td>1514614</td>\n",
       "      <td>156908</td>\n",
       "      <td>5855</td>\n",
       "      <td>35313</td>\n",
       "    </tr>\n",
       "    <tr>\n",
       "      <th>1</th>\n",
       "      <td>Apex Legends | Stories from the Outlands – “Th...</td>\n",
       "      <td>2381688</td>\n",
       "      <td>146739</td>\n",
       "      <td>2794</td>\n",
       "      <td>16549</td>\n",
       "    </tr>\n",
       "    <tr>\n",
       "      <th>2</th>\n",
       "      <td>I left youtube for a month and THIS is what ha...</td>\n",
       "      <td>2038853</td>\n",
       "      <td>353787</td>\n",
       "      <td>2628</td>\n",
       "      <td>40221</td>\n",
       "    </tr>\n",
       "    <tr>\n",
       "      <th>3</th>\n",
       "      <td>XXL 2020 Freshman Class Revealed - Official An...</td>\n",
       "      <td>496771</td>\n",
       "      <td>23251</td>\n",
       "      <td>1856</td>\n",
       "      <td>7647</td>\n",
       "    </tr>\n",
       "    <tr>\n",
       "      <th>4</th>\n",
       "      <td>Ultimate DIY Home Movie Theater for The LaBran...</td>\n",
       "      <td>1123889</td>\n",
       "      <td>45802</td>\n",
       "      <td>964</td>\n",
       "      <td>2196</td>\n",
       "    </tr>\n",
       "    <tr>\n",
       "      <th>...</th>\n",
       "      <td>...</td>\n",
       "      <td>...</td>\n",
       "      <td>...</td>\n",
       "      <td>...</td>\n",
       "      <td>...</td>\n",
       "    </tr>\n",
       "    <tr>\n",
       "      <th>190785</th>\n",
       "      <td>Eladio Carrión - Air France (Visualizer) | 3ME...</td>\n",
       "      <td>1802525</td>\n",
       "      <td>127908</td>\n",
       "      <td>0</td>\n",
       "      <td>3730</td>\n",
       "    </tr>\n",
       "    <tr>\n",
       "      <th>190786</th>\n",
       "      <td>Dominik challenges Rey Mysterio to a WrestleMa...</td>\n",
       "      <td>317397</td>\n",
       "      <td>6157</td>\n",
       "      <td>0</td>\n",
       "      <td>994</td>\n",
       "    </tr>\n",
       "    <tr>\n",
       "      <th>190787</th>\n",
       "      <td>Slide 2 Dollar Store baskets on a paper towel ...</td>\n",
       "      <td>2715268</td>\n",
       "      <td>0</td>\n",
       "      <td>0</td>\n",
       "      <td>161</td>\n",
       "    </tr>\n",
       "    <tr>\n",
       "      <th>190788</th>\n",
       "      <td>As another bank collapses, US regulators race ...</td>\n",
       "      <td>932561</td>\n",
       "      <td>5353</td>\n",
       "      <td>0</td>\n",
       "      <td>3051</td>\n",
       "    </tr>\n",
       "    <tr>\n",
       "      <th>190789</th>\n",
       "      <td>LAST TO LEAVE THE BOX CHALLENGE</td>\n",
       "      <td>5022993</td>\n",
       "      <td>200436</td>\n",
       "      <td>0</td>\n",
       "      <td>5289</td>\n",
       "    </tr>\n",
       "  </tbody>\n",
       "</table>\n",
       "<p>190790 rows × 5 columns</p>\n",
       "</div>"
      ],
      "text/plain": [
       "                                                    title  view_count   likes  dislikes  comment_count\n",
       "0                      I ASKED HER TO BE MY GIRLFRIEND...     1514614  156908      5855          35313\n",
       "1       Apex Legends | Stories from the Outlands – “Th...     2381688  146739      2794          16549\n",
       "2       I left youtube for a month and THIS is what ha...     2038853  353787      2628          40221\n",
       "3       XXL 2020 Freshman Class Revealed - Official An...      496771   23251      1856           7647\n",
       "4       Ultimate DIY Home Movie Theater for The LaBran...     1123889   45802       964           2196\n",
       "...                                                   ...         ...     ...       ...            ...\n",
       "190785  Eladio Carrión - Air France (Visualizer) | 3ME...     1802525  127908         0           3730\n",
       "190786  Dominik challenges Rey Mysterio to a WrestleMa...      317397    6157         0            994\n",
       "190787  Slide 2 Dollar Store baskets on a paper towel ...     2715268       0         0            161\n",
       "190788  As another bank collapses, US regulators race ...      932561    5353         0           3051\n",
       "190789                    LAST TO LEAVE THE BOX CHALLENGE     5022993  200436         0           5289\n",
       "\n",
       "[190790 rows x 5 columns]"
      ]
     },
     "execution_count": 6,
     "metadata": {},
     "output_type": "execute_result"
    }
   ],
   "source": [
    "df"
   ]
  },
  {
   "cell_type": "markdown",
   "id": "f841a2d3",
   "metadata": {
    "papermill": {
     "duration": 0.008693,
     "end_time": "2023-03-20T12:24:42.066691",
     "exception": false,
     "start_time": "2023-03-20T12:24:42.057998",
     "status": "completed"
    },
    "tags": []
   },
   "source": [
    "# **3.Sorting Reviews**"
   ]
  },
  {
   "cell_type": "markdown",
   "id": "baef5a2d",
   "metadata": {
    "papermill": {
     "duration": 0.008865,
     "end_time": "2023-03-20T12:24:42.084144",
     "exception": false,
     "start_time": "2023-03-20T12:24:42.075279",
     "status": "completed"
    },
    "tags": []
   },
   "source": [
    "***💯Since the weight factor is not added in the Up - Down operation, the ratio information is not calculated.***"
   ]
  },
  {
   "cell_type": "code",
   "execution_count": 7,
   "id": "ee33db4f",
   "metadata": {
    "execution": {
     "iopub.execute_input": "2023-03-20T12:24:42.103440Z",
     "iopub.status.busy": "2023-03-20T12:24:42.103010Z",
     "iopub.status.idle": "2023-03-20T12:24:42.108182Z",
     "shell.execute_reply": "2023-03-20T12:24:42.106979Z"
    },
    "papermill": {
     "duration": 0.017625,
     "end_time": "2023-03-20T12:24:42.110535",
     "exception": false,
     "start_time": "2023-03-20T12:24:42.092910",
     "status": "completed"
    },
    "tags": []
   },
   "outputs": [],
   "source": [
    "def score_up_down_diff(up, down):\n",
    "    return up - down"
   ]
  },
  {
   "cell_type": "code",
   "execution_count": 8,
   "id": "78db0621",
   "metadata": {
    "execution": {
     "iopub.execute_input": "2023-03-20T12:24:42.129519Z",
     "iopub.status.busy": "2023-03-20T12:24:42.129120Z",
     "iopub.status.idle": "2023-03-20T12:24:44.964239Z",
     "shell.execute_reply": "2023-03-20T12:24:44.962910Z"
    },
    "papermill": {
     "duration": 2.848021,
     "end_time": "2023-03-20T12:24:44.967234",
     "exception": false,
     "start_time": "2023-03-20T12:24:42.119213",
     "status": "completed"
    },
    "tags": []
   },
   "outputs": [],
   "source": [
    "df[\"score_up_down_diff\"]= df.apply(lambda x: score_up_down_diff(x[\"likes\"],x[\"dislikes\"]),axis=1)"
   ]
  },
  {
   "cell_type": "markdown",
   "id": "7684ed02",
   "metadata": {
    "papermill": {
     "duration": 0.008416,
     "end_time": "2023-03-20T12:24:44.984689",
     "exception": false,
     "start_time": "2023-03-20T12:24:44.976273",
     "status": "completed"
    },
    "tags": []
   },
   "source": [
    "***💯Percentage weight is included in the process with Up Rating / All Rating. However, frequency information is not calculated.***"
   ]
  },
  {
   "cell_type": "code",
   "execution_count": 9,
   "id": "f0ad942c",
   "metadata": {
    "execution": {
     "iopub.execute_input": "2023-03-20T12:24:45.003729Z",
     "iopub.status.busy": "2023-03-20T12:24:45.003318Z",
     "iopub.status.idle": "2023-03-20T12:24:45.008198Z",
     "shell.execute_reply": "2023-03-20T12:24:45.007232Z"
    },
    "papermill": {
     "duration": 0.017062,
     "end_time": "2023-03-20T12:24:45.010268",
     "exception": false,
     "start_time": "2023-03-20T12:24:44.993206",
     "status": "completed"
    },
    "tags": []
   },
   "outputs": [],
   "source": [
    "def score_average_rating(up, down):\n",
    "    if up + down == 0:\n",
    "        return 0\n",
    "    return up / (up + down)\n"
   ]
  },
  {
   "cell_type": "code",
   "execution_count": 10,
   "id": "196d6146",
   "metadata": {
    "execution": {
     "iopub.execute_input": "2023-03-20T12:24:45.030145Z",
     "iopub.status.busy": "2023-03-20T12:24:45.029602Z",
     "iopub.status.idle": "2023-03-20T12:24:47.911704Z",
     "shell.execute_reply": "2023-03-20T12:24:47.910276Z"
    },
    "papermill": {
     "duration": 2.895696,
     "end_time": "2023-03-20T12:24:47.914621",
     "exception": false,
     "start_time": "2023-03-20T12:24:45.018925",
     "status": "completed"
    },
    "tags": []
   },
   "outputs": [],
   "source": [
    "df[\"score_average_rating\"]=df.apply(lambda x: score_average_rating(x[\"likes\"],x[\"dislikes\"]),axis=1)"
   ]
  },
  {
   "cell_type": "markdown",
   "id": "91ae55c3",
   "metadata": {
    "papermill": {
     "duration": 0.008373,
     "end_time": "2023-03-20T12:24:47.931663",
     "exception": false,
     "start_time": "2023-03-20T12:24:47.923290",
     "status": "completed"
    },
    "tags": []
   },
   "source": [
    "***💯Provides us item scoring for datasets with dual interactions (likes, dislikes). This operation calculates a confidence interval. It represents the lower limit of the confidence interval. Since the confidence interval is calculated over the current rate of increase, the rate of increase can be estimated statistically. Frequency information is not calculated in the average rating method. Thanks to the Wilson_lower_bound method, this issue was taken care of.***"
   ]
  },
  {
   "cell_type": "code",
   "execution_count": 11,
   "id": "4c67ef20",
   "metadata": {
    "execution": {
     "iopub.execute_input": "2023-03-20T12:24:47.950864Z",
     "iopub.status.busy": "2023-03-20T12:24:47.950441Z",
     "iopub.status.idle": "2023-03-20T12:24:47.958051Z",
     "shell.execute_reply": "2023-03-20T12:24:47.956886Z"
    },
    "papermill": {
     "duration": 0.02034,
     "end_time": "2023-03-20T12:24:47.960628",
     "exception": false,
     "start_time": "2023-03-20T12:24:47.940288",
     "status": "completed"
    },
    "tags": []
   },
   "outputs": [],
   "source": [
    "\n",
    "def wilson_lower_bound(up, down, confidence=0.95):\n",
    "    \"\"\"\n",
    "    Calculate Wilson Lower Bound Score\n",
    "\n",
    "    - The lower limit of the confidence interval to be calculated for the Bernoulli parameter p is accepted as the WLB score.\n",
    "    - The score to be calculated is used for product ranking.\n",
    "    - Note:\n",
    "    If the scores are between 1-5, 1-3 are marked as negative, 4-5 as positive and can be made to conform to Bernoulli.\n",
    "    This brings with it some problems. For this reason, it is necessary to make a bayesian average rating.\n",
    "\n",
    "    Parameters\n",
    "    ----------\n",
    "    up: int\n",
    "        up count\n",
    "    down: int\n",
    "        down count\n",
    "    confidence: float\n",
    "        confidence\n",
    "\n",
    "    Returns\n",
    "    -------\n",
    "    wilson score: float\n",
    "\n",
    "    \"\"\"\n",
    "    n = up + down\n",
    "    if n == 0:\n",
    "        return 0\n",
    "    z = st.norm.ppf(1 - (1 - confidence) / 2)\n",
    "    phat = 1.0 * up / n\n",
    "    return (phat + z * z / (2 * n) - z * math.sqrt((phat * (1 - phat) + z * z / (4 * n)) / n)) / (1 + z * z / n)"
   ]
  },
  {
   "cell_type": "code",
   "execution_count": 12,
   "id": "29a6e8a9",
   "metadata": {
    "execution": {
     "iopub.execute_input": "2023-03-20T12:24:47.980504Z",
     "iopub.status.busy": "2023-03-20T12:24:47.979744Z",
     "iopub.status.idle": "2023-03-20T12:25:12.664375Z",
     "shell.execute_reply": "2023-03-20T12:25:12.663333Z"
    },
    "papermill": {
     "duration": 24.697558,
     "end_time": "2023-03-20T12:25:12.667145",
     "exception": false,
     "start_time": "2023-03-20T12:24:47.969587",
     "status": "completed"
    },
    "tags": []
   },
   "outputs": [],
   "source": [
    "df[\"wilson_lower_bound\"]=df.apply(lambda x: wilson_lower_bound(x[\"likes\"],x[\"dislikes\"]),axis=1)"
   ]
  },
  {
   "cell_type": "code",
   "execution_count": 13,
   "id": "c1895f9d",
   "metadata": {
    "execution": {
     "iopub.execute_input": "2023-03-20T12:25:12.686989Z",
     "iopub.status.busy": "2023-03-20T12:25:12.686289Z",
     "iopub.status.idle": "2023-03-20T12:25:12.744723Z",
     "shell.execute_reply": "2023-03-20T12:25:12.743513Z"
    },
    "papermill": {
     "duration": 0.0712,
     "end_time": "2023-03-20T12:25:12.747367",
     "exception": false,
     "start_time": "2023-03-20T12:25:12.676167",
     "status": "completed"
    },
    "tags": []
   },
   "outputs": [
    {
     "data": {
      "text/html": [
       "<div>\n",
       "<style scoped>\n",
       "    .dataframe tbody tr th:only-of-type {\n",
       "        vertical-align: middle;\n",
       "    }\n",
       "\n",
       "    .dataframe tbody tr th {\n",
       "        vertical-align: top;\n",
       "    }\n",
       "\n",
       "    .dataframe thead th {\n",
       "        text-align: right;\n",
       "    }\n",
       "</style>\n",
       "<table border=\"1\" class=\"dataframe\">\n",
       "  <thead>\n",
       "    <tr style=\"text-align: right;\">\n",
       "      <th></th>\n",
       "      <th>title</th>\n",
       "      <th>view_count</th>\n",
       "      <th>likes</th>\n",
       "      <th>dislikes</th>\n",
       "      <th>comment_count</th>\n",
       "      <th>score_up_down_diff</th>\n",
       "      <th>score_average_rating</th>\n",
       "      <th>wilson_lower_bound</th>\n",
       "    </tr>\n",
       "  </thead>\n",
       "  <tbody>\n",
       "    <tr>\n",
       "      <th>56374</th>\n",
       "      <td>BTS (방탄소년단) 'Butter' Official MV</td>\n",
       "      <td>264407389</td>\n",
       "      <td>16021534</td>\n",
       "      <td>150989</td>\n",
       "      <td>6738537</td>\n",
       "      <td>15870545</td>\n",
       "      <td>0.990664</td>\n",
       "      <td>0.990617</td>\n",
       "    </tr>\n",
       "    <tr>\n",
       "      <th>3358</th>\n",
       "      <td>BTS (방탄소년단) 'Dynamite' Official MV</td>\n",
       "      <td>232649205</td>\n",
       "      <td>15735533</td>\n",
       "      <td>714194</td>\n",
       "      <td>6065230</td>\n",
       "      <td>15021339</td>\n",
       "      <td>0.956583</td>\n",
       "      <td>0.956485</td>\n",
       "    </tr>\n",
       "    <tr>\n",
       "      <th>3137</th>\n",
       "      <td>BTS (방탄소년단) 'Dynamite' Official MV</td>\n",
       "      <td>219110491</td>\n",
       "      <td>15460822</td>\n",
       "      <td>674291</td>\n",
       "      <td>5810680</td>\n",
       "      <td>14786531</td>\n",
       "      <td>0.958210</td>\n",
       "      <td>0.958112</td>\n",
       "    </tr>\n",
       "    <tr>\n",
       "      <th>2894</th>\n",
       "      <td>BTS (방탄소년단) 'Dynamite' Official MV</td>\n",
       "      <td>208581468</td>\n",
       "      <td>15246496</td>\n",
       "      <td>646349</td>\n",
       "      <td>5744496</td>\n",
       "      <td>14600147</td>\n",
       "      <td>0.959331</td>\n",
       "      <td>0.959234</td>\n",
       "    </tr>\n",
       "    <tr>\n",
       "      <th>2653</th>\n",
       "      <td>BTS (방탄소년단) 'Dynamite' Official MV</td>\n",
       "      <td>200692965</td>\n",
       "      <td>14994034</td>\n",
       "      <td>621578</td>\n",
       "      <td>5623570</td>\n",
       "      <td>14372456</td>\n",
       "      <td>0.960195</td>\n",
       "      <td>0.960098</td>\n",
       "    </tr>\n",
       "    <tr>\n",
       "      <th>...</th>\n",
       "      <td>...</td>\n",
       "      <td>...</td>\n",
       "      <td>...</td>\n",
       "      <td>...</td>\n",
       "      <td>...</td>\n",
       "      <td>...</td>\n",
       "      <td>...</td>\n",
       "      <td>...</td>\n",
       "    </tr>\n",
       "    <tr>\n",
       "      <th>93370</th>\n",
       "      <td>Update to YouTube's Dislike Count</td>\n",
       "      <td>1423285</td>\n",
       "      <td>13537</td>\n",
       "      <td>122608</td>\n",
       "      <td>89133</td>\n",
       "      <td>-109071</td>\n",
       "      <td>0.099431</td>\n",
       "      <td>0.097853</td>\n",
       "    </tr>\n",
       "    <tr>\n",
       "      <th>85045</th>\n",
       "      <td>La 69 - Jenny69 ( Video Oficial )</td>\n",
       "      <td>2804559</td>\n",
       "      <td>43241</td>\n",
       "      <td>180526</td>\n",
       "      <td>30398</td>\n",
       "      <td>-137285</td>\n",
       "      <td>0.193241</td>\n",
       "      <td>0.191610</td>\n",
       "    </tr>\n",
       "    <tr>\n",
       "      <th>85275</th>\n",
       "      <td>La 69 - Jenny69 ( Video Oficial )</td>\n",
       "      <td>3408816</td>\n",
       "      <td>50671</td>\n",
       "      <td>206653</td>\n",
       "      <td>35554</td>\n",
       "      <td>-155982</td>\n",
       "      <td>0.196915</td>\n",
       "      <td>0.195383</td>\n",
       "    </tr>\n",
       "    <tr>\n",
       "      <th>85544</th>\n",
       "      <td>La 69 - Jenny69 ( Video Oficial )</td>\n",
       "      <td>4048948</td>\n",
       "      <td>57552</td>\n",
       "      <td>233545</td>\n",
       "      <td>41023</td>\n",
       "      <td>-175993</td>\n",
       "      <td>0.197707</td>\n",
       "      <td>0.196264</td>\n",
       "    </tr>\n",
       "    <tr>\n",
       "      <th>85757</th>\n",
       "      <td>La 69 - Jenny69 ( Video Oficial )</td>\n",
       "      <td>4582686</td>\n",
       "      <td>63949</td>\n",
       "      <td>253992</td>\n",
       "      <td>44414</td>\n",
       "      <td>-190043</td>\n",
       "      <td>0.201135</td>\n",
       "      <td>0.199745</td>\n",
       "    </tr>\n",
       "  </tbody>\n",
       "</table>\n",
       "<p>190790 rows × 8 columns</p>\n",
       "</div>"
      ],
      "text/plain": [
       "                                    title  view_count     likes  dislikes  comment_count  score_up_down_diff  score_average_rating  wilson_lower_bound\n",
       "56374    BTS (방탄소년단) 'Butter' Official MV   264407389  16021534    150989        6738537            15870545              0.990664            0.990617\n",
       "3358   BTS (방탄소년단) 'Dynamite' Official MV   232649205  15735533    714194        6065230            15021339              0.956583            0.956485\n",
       "3137   BTS (방탄소년단) 'Dynamite' Official MV   219110491  15460822    674291        5810680            14786531              0.958210            0.958112\n",
       "2894   BTS (방탄소년단) 'Dynamite' Official MV   208581468  15246496    646349        5744496            14600147              0.959331            0.959234\n",
       "2653   BTS (방탄소년단) 'Dynamite' Official MV   200692965  14994034    621578        5623570            14372456              0.960195            0.960098\n",
       "...                                   ...         ...       ...       ...            ...                 ...                   ...                 ...\n",
       "93370   Update to YouTube's Dislike Count     1423285     13537    122608          89133             -109071              0.099431            0.097853\n",
       "85045   La 69 - Jenny69 ( Video Oficial )     2804559     43241    180526          30398             -137285              0.193241            0.191610\n",
       "85275   La 69 - Jenny69 ( Video Oficial )     3408816     50671    206653          35554             -155982              0.196915            0.195383\n",
       "85544   La 69 - Jenny69 ( Video Oficial )     4048948     57552    233545          41023             -175993              0.197707            0.196264\n",
       "85757   La 69 - Jenny69 ( Video Oficial )     4582686     63949    253992          44414             -190043              0.201135            0.199745\n",
       "\n",
       "[190790 rows x 8 columns]"
      ]
     },
     "execution_count": 13,
     "metadata": {},
     "output_type": "execute_result"
    }
   ],
   "source": [
    "df.sort_values(\"score_up_down_diff\", ascending=False)"
   ]
  },
  {
   "cell_type": "code",
   "execution_count": 14,
   "id": "34316c22",
   "metadata": {
    "execution": {
     "iopub.execute_input": "2023-03-20T12:25:12.768915Z",
     "iopub.status.busy": "2023-03-20T12:25:12.767875Z",
     "iopub.status.idle": "2023-03-20T12:25:12.817534Z",
     "shell.execute_reply": "2023-03-20T12:25:12.816252Z"
    },
    "papermill": {
     "duration": 0.063709,
     "end_time": "2023-03-20T12:25:12.819917",
     "exception": false,
     "start_time": "2023-03-20T12:25:12.756208",
     "status": "completed"
    },
    "tags": []
   },
   "outputs": [
    {
     "data": {
      "text/html": [
       "<div>\n",
       "<style scoped>\n",
       "    .dataframe tbody tr th:only-of-type {\n",
       "        vertical-align: middle;\n",
       "    }\n",
       "\n",
       "    .dataframe tbody tr th {\n",
       "        vertical-align: top;\n",
       "    }\n",
       "\n",
       "    .dataframe thead th {\n",
       "        text-align: right;\n",
       "    }\n",
       "</style>\n",
       "<table border=\"1\" class=\"dataframe\">\n",
       "  <thead>\n",
       "    <tr style=\"text-align: right;\">\n",
       "      <th></th>\n",
       "      <th>title</th>\n",
       "      <th>view_count</th>\n",
       "      <th>likes</th>\n",
       "      <th>dislikes</th>\n",
       "      <th>comment_count</th>\n",
       "      <th>score_up_down_diff</th>\n",
       "      <th>score_average_rating</th>\n",
       "      <th>wilson_lower_bound</th>\n",
       "    </tr>\n",
       "  </thead>\n",
       "  <tbody>\n",
       "    <tr>\n",
       "      <th>190789</th>\n",
       "      <td>LAST TO LEAVE THE BOX CHALLENGE</td>\n",
       "      <td>5022993</td>\n",
       "      <td>200436</td>\n",
       "      <td>0</td>\n",
       "      <td>5289</td>\n",
       "      <td>200436</td>\n",
       "      <td>1.0</td>\n",
       "      <td>0.999981</td>\n",
       "    </tr>\n",
       "    <tr>\n",
       "      <th>132244</th>\n",
       "      <td>Super Mario 64 DS ROM Hacks | Different Consol...</td>\n",
       "      <td>163191</td>\n",
       "      <td>12124</td>\n",
       "      <td>0</td>\n",
       "      <td>759</td>\n",
       "      <td>12124</td>\n",
       "      <td>1.0</td>\n",
       "      <td>0.999683</td>\n",
       "    </tr>\n",
       "    <tr>\n",
       "      <th>132222</th>\n",
       "      <td>Collected Miscellany - Yelan: Traceless Stealt...</td>\n",
       "      <td>503252</td>\n",
       "      <td>45576</td>\n",
       "      <td>0</td>\n",
       "      <td>2005</td>\n",
       "      <td>45576</td>\n",
       "      <td>1.0</td>\n",
       "      <td>0.999916</td>\n",
       "    </tr>\n",
       "    <tr>\n",
       "      <th>132223</th>\n",
       "      <td>Race Highlights | 2022 Monaco Grand Prix</td>\n",
       "      <td>6762999</td>\n",
       "      <td>130848</td>\n",
       "      <td>0</td>\n",
       "      <td>7310</td>\n",
       "      <td>130848</td>\n",
       "      <td>1.0</td>\n",
       "      <td>0.999971</td>\n",
       "    </tr>\n",
       "    <tr>\n",
       "      <th>132224</th>\n",
       "      <td>Gervonta Davis Said He Didn't Even Throw That ...</td>\n",
       "      <td>1427459</td>\n",
       "      <td>21687</td>\n",
       "      <td>0</td>\n",
       "      <td>4050</td>\n",
       "      <td>21687</td>\n",
       "      <td>1.0</td>\n",
       "      <td>0.999823</td>\n",
       "    </tr>\n",
       "    <tr>\n",
       "      <th>...</th>\n",
       "      <td>...</td>\n",
       "      <td>...</td>\n",
       "      <td>...</td>\n",
       "      <td>...</td>\n",
       "      <td>...</td>\n",
       "      <td>...</td>\n",
       "      <td>...</td>\n",
       "      <td>...</td>\n",
       "    </tr>\n",
       "    <tr>\n",
       "      <th>88980</th>\n",
       "      <td>Galaxy Unpacked Part 2 October 2021: Official ...</td>\n",
       "      <td>901826</td>\n",
       "      <td>0</td>\n",
       "      <td>0</td>\n",
       "      <td>0</td>\n",
       "      <td>0</td>\n",
       "      <td>0.0</td>\n",
       "      <td>0.000000</td>\n",
       "    </tr>\n",
       "    <tr>\n",
       "      <th>152807</th>\n",
       "      <td>Willow | Official Trailer | Disney+</td>\n",
       "      <td>970169</td>\n",
       "      <td>0</td>\n",
       "      <td>0</td>\n",
       "      <td>0</td>\n",
       "      <td>0</td>\n",
       "      <td>0.0</td>\n",
       "      <td>0.000000</td>\n",
       "    </tr>\n",
       "    <tr>\n",
       "      <th>45143</th>\n",
       "      <td>Did I Cheat In My Marriage? #TheTruth (Feat: D...</td>\n",
       "      <td>1134461</td>\n",
       "      <td>0</td>\n",
       "      <td>0</td>\n",
       "      <td>0</td>\n",
       "      <td>0</td>\n",
       "      <td>0.0</td>\n",
       "      <td>0.000000</td>\n",
       "    </tr>\n",
       "    <tr>\n",
       "      <th>45226</th>\n",
       "      <td>Resumen: Ecuador 2 Bolivia 1 - Amistoso Intern...</td>\n",
       "      <td>264140</td>\n",
       "      <td>0</td>\n",
       "      <td>0</td>\n",
       "      <td>922</td>\n",
       "      <td>0</td>\n",
       "      <td>0.0</td>\n",
       "      <td>0.000000</td>\n",
       "    </tr>\n",
       "    <tr>\n",
       "      <th>108755</th>\n",
       "      <td>Eliminatorias | Colombia 0-1 Perú | Fecha 15</td>\n",
       "      <td>2975369</td>\n",
       "      <td>0</td>\n",
       "      <td>0</td>\n",
       "      <td>7999</td>\n",
       "      <td>0</td>\n",
       "      <td>0.0</td>\n",
       "      <td>0.000000</td>\n",
       "    </tr>\n",
       "  </tbody>\n",
       "</table>\n",
       "<p>190790 rows × 8 columns</p>\n",
       "</div>"
      ],
      "text/plain": [
       "                                                    title  view_count   likes  dislikes  comment_count  score_up_down_diff  score_average_rating  wilson_lower_bound\n",
       "190789                    LAST TO LEAVE THE BOX CHALLENGE     5022993  200436         0           5289              200436                   1.0            0.999981\n",
       "132244  Super Mario 64 DS ROM Hacks | Different Consol...      163191   12124         0            759               12124                   1.0            0.999683\n",
       "132222  Collected Miscellany - Yelan: Traceless Stealt...      503252   45576         0           2005               45576                   1.0            0.999916\n",
       "132223           Race Highlights | 2022 Monaco Grand Prix     6762999  130848         0           7310              130848                   1.0            0.999971\n",
       "132224  Gervonta Davis Said He Didn't Even Throw That ...     1427459   21687         0           4050               21687                   1.0            0.999823\n",
       "...                                                   ...         ...     ...       ...            ...                 ...                   ...                 ...\n",
       "88980   Galaxy Unpacked Part 2 October 2021: Official ...      901826       0         0              0                   0                   0.0            0.000000\n",
       "152807                Willow | Official Trailer | Disney+      970169       0         0              0                   0                   0.0            0.000000\n",
       "45143   Did I Cheat In My Marriage? #TheTruth (Feat: D...     1134461       0         0              0                   0                   0.0            0.000000\n",
       "45226   Resumen: Ecuador 2 Bolivia 1 - Amistoso Intern...      264140       0         0            922                   0                   0.0            0.000000\n",
       "108755       Eliminatorias | Colombia 0-1 Perú | Fecha 15     2975369       0         0           7999                   0                   0.0            0.000000\n",
       "\n",
       "[190790 rows x 8 columns]"
      ]
     },
     "execution_count": 14,
     "metadata": {},
     "output_type": "execute_result"
    }
   ],
   "source": [
    "df.sort_values(\"score_average_rating\", ascending=False)"
   ]
  },
  {
   "cell_type": "code",
   "execution_count": 15,
   "id": "afec89a6",
   "metadata": {
    "execution": {
     "iopub.execute_input": "2023-03-20T12:25:12.840463Z",
     "iopub.status.busy": "2023-03-20T12:25:12.839773Z",
     "iopub.status.idle": "2023-03-20T12:25:12.903600Z",
     "shell.execute_reply": "2023-03-20T12:25:12.902357Z"
    },
    "papermill": {
     "duration": 0.077188,
     "end_time": "2023-03-20T12:25:12.906295",
     "exception": false,
     "start_time": "2023-03-20T12:25:12.829107",
     "status": "completed"
    },
    "tags": []
   },
   "outputs": [
    {
     "data": {
      "text/html": [
       "<div>\n",
       "<style scoped>\n",
       "    .dataframe tbody tr th:only-of-type {\n",
       "        vertical-align: middle;\n",
       "    }\n",
       "\n",
       "    .dataframe tbody tr th {\n",
       "        vertical-align: top;\n",
       "    }\n",
       "\n",
       "    .dataframe thead th {\n",
       "        text-align: right;\n",
       "    }\n",
       "</style>\n",
       "<table border=\"1\" class=\"dataframe\">\n",
       "  <thead>\n",
       "    <tr style=\"text-align: right;\">\n",
       "      <th></th>\n",
       "      <th>title</th>\n",
       "      <th>view_count</th>\n",
       "      <th>likes</th>\n",
       "      <th>dislikes</th>\n",
       "      <th>comment_count</th>\n",
       "      <th>score_up_down_diff</th>\n",
       "      <th>score_average_rating</th>\n",
       "      <th>wilson_lower_bound</th>\n",
       "    </tr>\n",
       "  </thead>\n",
       "  <tbody>\n",
       "    <tr>\n",
       "      <th>152788</th>\n",
       "      <td>BLACKPINK - ‘Pink Venom’ M/V</td>\n",
       "      <td>277791741</td>\n",
       "      <td>12993894</td>\n",
       "      <td>0</td>\n",
       "      <td>3534337</td>\n",
       "      <td>12993894</td>\n",
       "      <td>1.0</td>\n",
       "      <td>1.0</td>\n",
       "    </tr>\n",
       "    <tr>\n",
       "      <th>152568</th>\n",
       "      <td>BLACKPINK - ‘Pink Venom’ M/V</td>\n",
       "      <td>273162966</td>\n",
       "      <td>12937252</td>\n",
       "      <td>0</td>\n",
       "      <td>3516745</td>\n",
       "      <td>12937252</td>\n",
       "      <td>1.0</td>\n",
       "      <td>1.0</td>\n",
       "    </tr>\n",
       "    <tr>\n",
       "      <th>152365</th>\n",
       "      <td>BLACKPINK - ‘Pink Venom’ M/V</td>\n",
       "      <td>268758295</td>\n",
       "      <td>12882841</td>\n",
       "      <td>0</td>\n",
       "      <td>3504692</td>\n",
       "      <td>12882841</td>\n",
       "      <td>1.0</td>\n",
       "      <td>1.0</td>\n",
       "    </tr>\n",
       "    <tr>\n",
       "      <th>152175</th>\n",
       "      <td>BLACKPINK - ‘Pink Venom’ M/V</td>\n",
       "      <td>264459017</td>\n",
       "      <td>12829059</td>\n",
       "      <td>0</td>\n",
       "      <td>3491132</td>\n",
       "      <td>12829059</td>\n",
       "      <td>1.0</td>\n",
       "      <td>1.0</td>\n",
       "    </tr>\n",
       "    <tr>\n",
       "      <th>151968</th>\n",
       "      <td>BLACKPINK - ‘Pink Venom’ M/V</td>\n",
       "      <td>260126694</td>\n",
       "      <td>12773474</td>\n",
       "      <td>0</td>\n",
       "      <td>3479717</td>\n",
       "      <td>12773474</td>\n",
       "      <td>1.0</td>\n",
       "      <td>1.0</td>\n",
       "    </tr>\n",
       "    <tr>\n",
       "      <th>...</th>\n",
       "      <td>...</td>\n",
       "      <td>...</td>\n",
       "      <td>...</td>\n",
       "      <td>...</td>\n",
       "      <td>...</td>\n",
       "      <td>...</td>\n",
       "      <td>...</td>\n",
       "      <td>...</td>\n",
       "    </tr>\n",
       "    <tr>\n",
       "      <th>50050</th>\n",
       "      <td>Celebrating Luther Vandross's 70th Birthday</td>\n",
       "      <td>0</td>\n",
       "      <td>0</td>\n",
       "      <td>0</td>\n",
       "      <td>0</td>\n",
       "      <td>0</td>\n",
       "      <td>0.0</td>\n",
       "      <td>0.0</td>\n",
       "    </tr>\n",
       "    <tr>\n",
       "      <th>88178</th>\n",
       "      <td>Eliminatorias | Brasil 4-1 Uruguay | Fecha 12</td>\n",
       "      <td>4880236</td>\n",
       "      <td>0</td>\n",
       "      <td>0</td>\n",
       "      <td>8035</td>\n",
       "      <td>0</td>\n",
       "      <td>0.0</td>\n",
       "      <td>0.0</td>\n",
       "    </tr>\n",
       "    <tr>\n",
       "      <th>122379</th>\n",
       "      <td>[풀버전] ♬ WA DA DA (퀸덤2 ver.) - 케플러 (Kep1er)</td>\n",
       "      <td>3483507</td>\n",
       "      <td>0</td>\n",
       "      <td>0</td>\n",
       "      <td>16990</td>\n",
       "      <td>0</td>\n",
       "      <td>0.0</td>\n",
       "      <td>0.0</td>\n",
       "    </tr>\n",
       "    <tr>\n",
       "      <th>20005</th>\n",
       "      <td>Kylie Jenner: Grinch Cupcakes with Stormi</td>\n",
       "      <td>7236464</td>\n",
       "      <td>0</td>\n",
       "      <td>0</td>\n",
       "      <td>19333</td>\n",
       "      <td>0</td>\n",
       "      <td>0.0</td>\n",
       "      <td>0.0</td>\n",
       "    </tr>\n",
       "    <tr>\n",
       "      <th>110035</th>\n",
       "      <td>The Dropout | Trailer | Hulu</td>\n",
       "      <td>3034166</td>\n",
       "      <td>0</td>\n",
       "      <td>0</td>\n",
       "      <td>565</td>\n",
       "      <td>0</td>\n",
       "      <td>0.0</td>\n",
       "      <td>0.0</td>\n",
       "    </tr>\n",
       "  </tbody>\n",
       "</table>\n",
       "<p>190790 rows × 8 columns</p>\n",
       "</div>"
      ],
      "text/plain": [
       "                                                title  view_count     likes  dislikes  comment_count  score_up_down_diff  score_average_rating  wilson_lower_bound\n",
       "152788                   BLACKPINK - ‘Pink Venom’ M/V   277791741  12993894         0        3534337            12993894                   1.0                 1.0\n",
       "152568                   BLACKPINK - ‘Pink Venom’ M/V   273162966  12937252         0        3516745            12937252                   1.0                 1.0\n",
       "152365                   BLACKPINK - ‘Pink Venom’ M/V   268758295  12882841         0        3504692            12882841                   1.0                 1.0\n",
       "152175                   BLACKPINK - ‘Pink Venom’ M/V   264459017  12829059         0        3491132            12829059                   1.0                 1.0\n",
       "151968                   BLACKPINK - ‘Pink Venom’ M/V   260126694  12773474         0        3479717            12773474                   1.0                 1.0\n",
       "...                                               ...         ...       ...       ...            ...                 ...                   ...                 ...\n",
       "50050     Celebrating Luther Vandross's 70th Birthday           0         0         0              0                   0                   0.0                 0.0\n",
       "88178   Eliminatorias | Brasil 4-1 Uruguay | Fecha 12     4880236         0         0           8035                   0                   0.0                 0.0\n",
       "122379     [풀버전] ♬ WA DA DA (퀸덤2 ver.) - 케플러 (Kep1er)     3483507         0         0          16990                   0                   0.0                 0.0\n",
       "20005       Kylie Jenner: Grinch Cupcakes with Stormi     7236464         0         0          19333                   0                   0.0                 0.0\n",
       "110035                   The Dropout | Trailer | Hulu     3034166         0         0            565                   0                   0.0                 0.0\n",
       "\n",
       "[190790 rows x 8 columns]"
      ]
     },
     "execution_count": 15,
     "metadata": {},
     "output_type": "execute_result"
    }
   ],
   "source": [
    "df.sort_values(\"wilson_lower_bound\", ascending=False)"
   ]
  },
  {
   "cell_type": "markdown",
   "id": "dec37446",
   "metadata": {
    "papermill": {
     "duration": 0.009043,
     "end_time": "2023-03-20T12:25:12.925048",
     "exception": false,
     "start_time": "2023-03-20T12:25:12.916005",
     "status": "completed"
    },
    "tags": []
   },
   "source": [
    "***💯In order to use the Wilson_lower_bound method more effectively, \"view_count\" and \"comment_count\" variables are used in addition to \"like\" and \"dislike\" variables. It performs scoring by scaling the \"view_count\" and \"comment_count\" variables between 1 - 5.***"
   ]
  },
  {
   "cell_type": "code",
   "execution_count": 16,
   "id": "630dac36",
   "metadata": {
    "execution": {
     "iopub.execute_input": "2023-03-20T12:25:12.946898Z",
     "iopub.status.busy": "2023-03-20T12:25:12.946156Z",
     "iopub.status.idle": "2023-03-20T12:25:12.964725Z",
     "shell.execute_reply": "2023-03-20T12:25:12.963317Z"
    },
    "papermill": {
     "duration": 0.032885,
     "end_time": "2023-03-20T12:25:12.967698",
     "exception": false,
     "start_time": "2023-03-20T12:25:12.934813",
     "status": "completed"
    },
    "tags": []
   },
   "outputs": [],
   "source": [
    "df[\"view_rating\"]= MinMaxScaler(feature_range = (1,5)).\\\n",
    "    fit(df[[\"view_count\"]])\\\n",
    "    .transform(df[[\"view_count\"]])"
   ]
  },
  {
   "cell_type": "code",
   "execution_count": 17,
   "id": "8e1ab0e8",
   "metadata": {
    "execution": {
     "iopub.execute_input": "2023-03-20T12:25:12.988612Z",
     "iopub.status.busy": "2023-03-20T12:25:12.987954Z",
     "iopub.status.idle": "2023-03-20T12:25:12.996460Z",
     "shell.execute_reply": "2023-03-20T12:25:12.995551Z"
    },
    "papermill": {
     "duration": 0.021595,
     "end_time": "2023-03-20T12:25:12.998601",
     "exception": false,
     "start_time": "2023-03-20T12:25:12.977006",
     "status": "completed"
    },
    "tags": []
   },
   "outputs": [
    {
     "data": {
      "text/plain": [
       "0         1.021809\n",
       "1         1.034295\n",
       "2         1.029358\n",
       "3         1.007153\n",
       "4         1.016183\n",
       "            ...   \n",
       "190785    1.025955\n",
       "190786    1.004570\n",
       "190787    1.039098\n",
       "190788    1.013428\n",
       "190789    1.072327\n",
       "Name: view_rating, Length: 190790, dtype: float64"
      ]
     },
     "execution_count": 17,
     "metadata": {},
     "output_type": "execute_result"
    }
   ],
   "source": [
    "df[\"view_rating\"]"
   ]
  },
  {
   "cell_type": "code",
   "execution_count": 18,
   "id": "5f930fb5",
   "metadata": {
    "execution": {
     "iopub.execute_input": "2023-03-20T12:25:13.019953Z",
     "iopub.status.busy": "2023-03-20T12:25:13.019230Z",
     "iopub.status.idle": "2023-03-20T12:25:13.038475Z",
     "shell.execute_reply": "2023-03-20T12:25:13.037509Z"
    },
    "papermill": {
     "duration": 0.032944,
     "end_time": "2023-03-20T12:25:13.041062",
     "exception": false,
     "start_time": "2023-03-20T12:25:13.008118",
     "status": "completed"
    },
    "tags": []
   },
   "outputs": [],
   "source": [
    "df[\"comment_rating\"]= MinMaxScaler(feature_range = (1,5)).\\\n",
    "    fit(df[[\"comment_count\"]])\\\n",
    "    .transform(df[[\"comment_count\"]])"
   ]
  },
  {
   "cell_type": "code",
   "execution_count": 19,
   "id": "7f47cb6e",
   "metadata": {
    "execution": {
     "iopub.execute_input": "2023-03-20T12:25:13.063487Z",
     "iopub.status.busy": "2023-03-20T12:25:13.062783Z",
     "iopub.status.idle": "2023-03-20T12:25:13.071670Z",
     "shell.execute_reply": "2023-03-20T12:25:13.070627Z"
    },
    "papermill": {
     "duration": 0.023191,
     "end_time": "2023-03-20T12:25:13.073975",
     "exception": false,
     "start_time": "2023-03-20T12:25:13.050784",
     "status": "completed"
    },
    "tags": []
   },
   "outputs": [
    {
     "data": {
      "text/plain": [
       "0         1.020962\n",
       "1         1.009823\n",
       "2         1.023875\n",
       "3         1.004539\n",
       "4         1.001304\n",
       "            ...   \n",
       "190785    1.002214\n",
       "190786    1.000590\n",
       "190787    1.000096\n",
       "190788    1.001811\n",
       "190789    1.003140\n",
       "Name: comment_rating, Length: 190790, dtype: float64"
      ]
     },
     "execution_count": 19,
     "metadata": {},
     "output_type": "execute_result"
    }
   ],
   "source": [
    "df[\"comment_rating\"]"
   ]
  },
  {
   "cell_type": "markdown",
   "id": "2ac72d27",
   "metadata": {
    "papermill": {
     "duration": 0.009734,
     "end_time": "2023-03-20T12:25:13.093370",
     "exception": false,
     "start_time": "2023-03-20T12:25:13.083636",
     "status": "completed"
    },
    "tags": []
   },
   "source": [
    "# **4.Hybrid - Sorting Reviews**"
   ]
  },
  {
   "cell_type": "code",
   "execution_count": 20,
   "id": "306e7462",
   "metadata": {
    "execution": {
     "iopub.execute_input": "2023-03-20T12:25:13.115427Z",
     "iopub.status.busy": "2023-03-20T12:25:13.114717Z",
     "iopub.status.idle": "2023-03-20T12:25:13.120686Z",
     "shell.execute_reply": "2023-03-20T12:25:13.119725Z"
    },
    "papermill": {
     "duration": 0.019637,
     "end_time": "2023-03-20T12:25:13.122979",
     "exception": false,
     "start_time": "2023-03-20T12:25:13.103342",
     "status": "completed"
    },
    "tags": []
   },
   "outputs": [],
   "source": [
    "def weighted_rating(dataframe, w1 = 32, w2 = 28, w3 = 40):\n",
    "    return dataframe[\"comment_rating\"] * w1 / 100 + dataframe[\"view_rating\"] * w2 / 100 + dataframe[\"wilson_lower_bound\"] * w3 / 100"
   ]
  },
  {
   "cell_type": "code",
   "execution_count": 21,
   "id": "c8b96fd2",
   "metadata": {
    "execution": {
     "iopub.execute_input": "2023-03-20T12:25:13.144267Z",
     "iopub.status.busy": "2023-03-20T12:25:13.143600Z",
     "iopub.status.idle": "2023-03-20T12:25:13.153000Z",
     "shell.execute_reply": "2023-03-20T12:25:13.152080Z"
    },
    "papermill": {
     "duration": 0.022971,
     "end_time": "2023-03-20T12:25:13.155531",
     "exception": false,
     "start_time": "2023-03-20T12:25:13.132560",
     "status": "completed"
    },
    "tags": []
   },
   "outputs": [],
   "source": [
    "df[\"weighted_sorting\"] = weighted_rating(df)"
   ]
  },
  {
   "cell_type": "code",
   "execution_count": 22,
   "id": "26ce6178",
   "metadata": {
    "execution": {
     "iopub.execute_input": "2023-03-20T12:25:13.177065Z",
     "iopub.status.busy": "2023-03-20T12:25:13.176282Z",
     "iopub.status.idle": "2023-03-20T12:25:13.244983Z",
     "shell.execute_reply": "2023-03-20T12:25:13.243717Z"
    },
    "papermill": {
     "duration": 0.082115,
     "end_time": "2023-03-20T12:25:13.247263",
     "exception": false,
     "start_time": "2023-03-20T12:25:13.165148",
     "status": "completed"
    },
    "tags": []
   },
   "outputs": [
    {
     "data": {
      "text/html": [
       "<div>\n",
       "<style scoped>\n",
       "    .dataframe tbody tr th:only-of-type {\n",
       "        vertical-align: middle;\n",
       "    }\n",
       "\n",
       "    .dataframe tbody tr th {\n",
       "        vertical-align: top;\n",
       "    }\n",
       "\n",
       "    .dataframe thead th {\n",
       "        text-align: right;\n",
       "    }\n",
       "</style>\n",
       "<table border=\"1\" class=\"dataframe\">\n",
       "  <thead>\n",
       "    <tr style=\"text-align: right;\">\n",
       "      <th></th>\n",
       "      <th>title</th>\n",
       "      <th>view_count</th>\n",
       "      <th>likes</th>\n",
       "      <th>dislikes</th>\n",
       "      <th>comment_count</th>\n",
       "      <th>score_up_down_diff</th>\n",
       "      <th>score_average_rating</th>\n",
       "      <th>wilson_lower_bound</th>\n",
       "      <th>view_rating</th>\n",
       "      <th>comment_rating</th>\n",
       "      <th>weighted_sorting</th>\n",
       "    </tr>\n",
       "  </thead>\n",
       "  <tbody>\n",
       "    <tr>\n",
       "      <th>56374</th>\n",
       "      <td>BTS (방탄소년단) 'Butter' Official MV</td>\n",
       "      <td>264407389</td>\n",
       "      <td>16021534</td>\n",
       "      <td>150989</td>\n",
       "      <td>6738537</td>\n",
       "      <td>15870545</td>\n",
       "      <td>0.990664</td>\n",
       "      <td>0.990617</td>\n",
       "      <td>4.807275</td>\n",
       "      <td>5.000000</td>\n",
       "      <td>3.342284</td>\n",
       "    </tr>\n",
       "    <tr>\n",
       "      <th>3358</th>\n",
       "      <td>BTS (방탄소년단) 'Dynamite' Official MV</td>\n",
       "      <td>232649205</td>\n",
       "      <td>15735533</td>\n",
       "      <td>714194</td>\n",
       "      <td>6065230</td>\n",
       "      <td>15021339</td>\n",
       "      <td>0.956583</td>\n",
       "      <td>0.956485</td>\n",
       "      <td>4.349980</td>\n",
       "      <td>4.600325</td>\n",
       "      <td>3.072692</td>\n",
       "    </tr>\n",
       "    <tr>\n",
       "      <th>3137</th>\n",
       "      <td>BTS (방탄소년단) 'Dynamite' Official MV</td>\n",
       "      <td>219110491</td>\n",
       "      <td>15460822</td>\n",
       "      <td>674291</td>\n",
       "      <td>5810680</td>\n",
       "      <td>14786531</td>\n",
       "      <td>0.958210</td>\n",
       "      <td>0.958112</td>\n",
       "      <td>4.155032</td>\n",
       "      <td>4.449223</td>\n",
       "      <td>2.970405</td>\n",
       "    </tr>\n",
       "    <tr>\n",
       "      <th>2894</th>\n",
       "      <td>BTS (방탄소년단) 'Dynamite' Official MV</td>\n",
       "      <td>208581468</td>\n",
       "      <td>15246496</td>\n",
       "      <td>646349</td>\n",
       "      <td>5744496</td>\n",
       "      <td>14600147</td>\n",
       "      <td>0.959331</td>\n",
       "      <td>0.959234</td>\n",
       "      <td>4.003422</td>\n",
       "      <td>4.409937</td>\n",
       "      <td>2.915831</td>\n",
       "    </tr>\n",
       "    <tr>\n",
       "      <th>2653</th>\n",
       "      <td>BTS (방탄소년단) 'Dynamite' Official MV</td>\n",
       "      <td>200692965</td>\n",
       "      <td>14994034</td>\n",
       "      <td>621578</td>\n",
       "      <td>5623570</td>\n",
       "      <td>14372456</td>\n",
       "      <td>0.960195</td>\n",
       "      <td>0.960098</td>\n",
       "      <td>3.889833</td>\n",
       "      <td>4.338155</td>\n",
       "      <td>2.861402</td>\n",
       "    </tr>\n",
       "    <tr>\n",
       "      <th>2418</th>\n",
       "      <td>BTS (방탄소년단) 'Dynamite' Official MV</td>\n",
       "      <td>183414472</td>\n",
       "      <td>14678048</td>\n",
       "      <td>576852</td>\n",
       "      <td>5748638</td>\n",
       "      <td>14101196</td>\n",
       "      <td>0.962186</td>\n",
       "      <td>0.962090</td>\n",
       "      <td>3.641036</td>\n",
       "      <td>4.412395</td>\n",
       "      <td>2.816292</td>\n",
       "    </tr>\n",
       "    <tr>\n",
       "      <th>55994</th>\n",
       "      <td>BTS (방탄소년단) 'Butter' Official MV</td>\n",
       "      <td>166895681</td>\n",
       "      <td>14202518</td>\n",
       "      <td>51663</td>\n",
       "      <td>5987770</td>\n",
       "      <td>14150855</td>\n",
       "      <td>0.996376</td>\n",
       "      <td>0.996344</td>\n",
       "      <td>3.403177</td>\n",
       "      <td>4.554344</td>\n",
       "      <td>2.808817</td>\n",
       "    </tr>\n",
       "    <tr>\n",
       "      <th>152788</th>\n",
       "      <td>BLACKPINK - ‘Pink Venom’ M/V</td>\n",
       "      <td>277791741</td>\n",
       "      <td>12993894</td>\n",
       "      <td>0</td>\n",
       "      <td>3534337</td>\n",
       "      <td>12993894</td>\n",
       "      <td>1.000000</td>\n",
       "      <td>1.000000</td>\n",
       "      <td>5.000000</td>\n",
       "      <td>3.097985</td>\n",
       "      <td>2.791355</td>\n",
       "    </tr>\n",
       "    <tr>\n",
       "      <th>152568</th>\n",
       "      <td>BLACKPINK - ‘Pink Venom’ M/V</td>\n",
       "      <td>273162966</td>\n",
       "      <td>12937252</td>\n",
       "      <td>0</td>\n",
       "      <td>3516745</td>\n",
       "      <td>12937252</td>\n",
       "      <td>1.000000</td>\n",
       "      <td>1.000000</td>\n",
       "      <td>4.933349</td>\n",
       "      <td>3.087542</td>\n",
       "      <td>2.769351</td>\n",
       "    </tr>\n",
       "    <tr>\n",
       "      <th>152365</th>\n",
       "      <td>BLACKPINK - ‘Pink Venom’ M/V</td>\n",
       "      <td>268758295</td>\n",
       "      <td>12882841</td>\n",
       "      <td>0</td>\n",
       "      <td>3504692</td>\n",
       "      <td>12882841</td>\n",
       "      <td>1.000000</td>\n",
       "      <td>1.000000</td>\n",
       "      <td>4.869925</td>\n",
       "      <td>3.080387</td>\n",
       "      <td>2.749303</td>\n",
       "    </tr>\n",
       "  </tbody>\n",
       "</table>\n",
       "</div>"
      ],
      "text/plain": [
       "                                     title  view_count     likes  dislikes  comment_count  score_up_down_diff  score_average_rating  wilson_lower_bound  view_rating  comment_rating  weighted_sorting\n",
       "56374     BTS (방탄소년단) 'Butter' Official MV   264407389  16021534    150989        6738537            15870545              0.990664            0.990617     4.807275        5.000000          3.342284\n",
       "3358    BTS (방탄소년단) 'Dynamite' Official MV   232649205  15735533    714194        6065230            15021339              0.956583            0.956485     4.349980        4.600325          3.072692\n",
       "3137    BTS (방탄소년단) 'Dynamite' Official MV   219110491  15460822    674291        5810680            14786531              0.958210            0.958112     4.155032        4.449223          2.970405\n",
       "2894    BTS (방탄소년단) 'Dynamite' Official MV   208581468  15246496    646349        5744496            14600147              0.959331            0.959234     4.003422        4.409937          2.915831\n",
       "2653    BTS (방탄소년단) 'Dynamite' Official MV   200692965  14994034    621578        5623570            14372456              0.960195            0.960098     3.889833        4.338155          2.861402\n",
       "2418    BTS (방탄소년단) 'Dynamite' Official MV   183414472  14678048    576852        5748638            14101196              0.962186            0.962090     3.641036        4.412395          2.816292\n",
       "55994     BTS (방탄소년단) 'Butter' Official MV   166895681  14202518     51663        5987770            14150855              0.996376            0.996344     3.403177        4.554344          2.808817\n",
       "152788        BLACKPINK - ‘Pink Venom’ M/V   277791741  12993894         0        3534337            12993894              1.000000            1.000000     5.000000        3.097985          2.791355\n",
       "152568        BLACKPINK - ‘Pink Venom’ M/V   273162966  12937252         0        3516745            12937252              1.000000            1.000000     4.933349        3.087542          2.769351\n",
       "152365        BLACKPINK - ‘Pink Venom’ M/V   268758295  12882841         0        3504692            12882841              1.000000            1.000000     4.869925        3.080387          2.749303"
      ]
     },
     "execution_count": 22,
     "metadata": {},
     "output_type": "execute_result"
    }
   ],
   "source": [
    "df.sort_values(\"weighted_sorting\", ascending= False).head(10)"
   ]
  }
 ],
 "metadata": {
  "kernelspec": {
   "display_name": "Python 3",
   "language": "python",
   "name": "python3"
  },
  "language_info": {
   "codemirror_mode": {
    "name": "ipython",
    "version": 3
   },
   "file_extension": ".py",
   "mimetype": "text/x-python",
   "name": "python",
   "nbconvert_exporter": "python",
   "pygments_lexer": "ipython3",
   "version": "3.7.12"
  },
  "papermill": {
   "default_parameters": {},
   "duration": 50.79461,
   "end_time": "2023-03-20T12:25:14.079391",
   "environment_variables": {},
   "exception": null,
   "input_path": "__notebook__.ipynb",
   "output_path": "__notebook__.ipynb",
   "parameters": {},
   "start_time": "2023-03-20T12:24:23.284781",
   "version": "2.4.0"
  }
 },
 "nbformat": 4,
 "nbformat_minor": 5
}
